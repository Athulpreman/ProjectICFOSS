{
 "cells": [
  {
   "cell_type": "code",
   "execution_count": 1,
   "id": "a215fce8",
   "metadata": {},
   "outputs": [],
   "source": [
    "import numpy as np\n",
    "import pandas as pd\n",
    "import matplotlib.pyplot as plt\n",
    "import seaborn as sns\n",
    "%matplotlib inline"
   ]
  },
  {
   "cell_type": "code",
   "execution_count": 2,
   "id": "f9589a88",
   "metadata": {},
   "outputs": [
    {
     "data": {
      "text/html": [
       "<div>\n",
       "<style scoped>\n",
       "    .dataframe tbody tr th:only-of-type {\n",
       "        vertical-align: middle;\n",
       "    }\n",
       "\n",
       "    .dataframe tbody tr th {\n",
       "        vertical-align: top;\n",
       "    }\n",
       "\n",
       "    .dataframe thead th {\n",
       "        text-align: right;\n",
       "    }\n",
       "</style>\n",
       "<table border=\"1\" class=\"dataframe\">\n",
       "  <thead>\n",
       "    <tr style=\"text-align: right;\">\n",
       "      <th></th>\n",
       "      <th>age</th>\n",
       "      <th>sex</th>\n",
       "      <th>cp(Chest Pain type)</th>\n",
       "      <th>trtbps(resting blood pressure)</th>\n",
       "      <th>cholestoral</th>\n",
       "      <th>fbs(fasting blood sugar &gt; 120 mg/dl) (1 = true; 0 = false)</th>\n",
       "      <th>restecg(resting electrocardiographic results)</th>\n",
       "      <th>thalachh(maximum heart rate achieved)</th>\n",
       "      <th>exng(exercise induced angina (1 = yes; 0 = no))</th>\n",
       "      <th>caa(number of major vessels (0-3))</th>\n",
       "      <th>output</th>\n",
       "    </tr>\n",
       "  </thead>\n",
       "  <tbody>\n",
       "    <tr>\n",
       "      <th>0</th>\n",
       "      <td>63</td>\n",
       "      <td>1</td>\n",
       "      <td>3</td>\n",
       "      <td>145</td>\n",
       "      <td>233</td>\n",
       "      <td>1</td>\n",
       "      <td>0</td>\n",
       "      <td>150</td>\n",
       "      <td>0</td>\n",
       "      <td>0</td>\n",
       "      <td>1</td>\n",
       "    </tr>\n",
       "    <tr>\n",
       "      <th>1</th>\n",
       "      <td>37</td>\n",
       "      <td>1</td>\n",
       "      <td>2</td>\n",
       "      <td>130</td>\n",
       "      <td>250</td>\n",
       "      <td>0</td>\n",
       "      <td>1</td>\n",
       "      <td>187</td>\n",
       "      <td>0</td>\n",
       "      <td>0</td>\n",
       "      <td>1</td>\n",
       "    </tr>\n",
       "    <tr>\n",
       "      <th>2</th>\n",
       "      <td>41</td>\n",
       "      <td>0</td>\n",
       "      <td>1</td>\n",
       "      <td>130</td>\n",
       "      <td>204</td>\n",
       "      <td>0</td>\n",
       "      <td>0</td>\n",
       "      <td>172</td>\n",
       "      <td>0</td>\n",
       "      <td>0</td>\n",
       "      <td>1</td>\n",
       "    </tr>\n",
       "    <tr>\n",
       "      <th>3</th>\n",
       "      <td>56</td>\n",
       "      <td>1</td>\n",
       "      <td>1</td>\n",
       "      <td>120</td>\n",
       "      <td>236</td>\n",
       "      <td>0</td>\n",
       "      <td>1</td>\n",
       "      <td>178</td>\n",
       "      <td>0</td>\n",
       "      <td>0</td>\n",
       "      <td>1</td>\n",
       "    </tr>\n",
       "  </tbody>\n",
       "</table>\n",
       "</div>"
      ],
      "text/plain": [
       "   age  sex  cp(Chest Pain type)  trtbps(resting blood pressure)  cholestoral  \\\n",
       "0   63    1                    3                             145          233   \n",
       "1   37    1                    2                             130          250   \n",
       "2   41    0                    1                             130          204   \n",
       "3   56    1                    1                             120          236   \n",
       "\n",
       "   fbs(fasting blood sugar > 120 mg/dl) (1 = true; 0 = false)  \\\n",
       "0                                                  1            \n",
       "1                                                  0            \n",
       "2                                                  0            \n",
       "3                                                  0            \n",
       "\n",
       "   restecg(resting electrocardiographic results)  \\\n",
       "0                                              0   \n",
       "1                                              1   \n",
       "2                                              0   \n",
       "3                                              1   \n",
       "\n",
       "   thalachh(maximum heart rate achieved)  \\\n",
       "0                                    150   \n",
       "1                                    187   \n",
       "2                                    172   \n",
       "3                                    178   \n",
       "\n",
       "   exng(exercise induced angina (1 = yes; 0 = no))  \\\n",
       "0                                                0   \n",
       "1                                                0   \n",
       "2                                                0   \n",
       "3                                                0   \n",
       "\n",
       "   caa(number of major vessels (0-3))  output  \n",
       "0                                   0       1  \n",
       "1                                   0       1  \n",
       "2                                   0       1  \n",
       "3                                   0       1  "
      ]
     },
     "execution_count": 2,
     "metadata": {},
     "output_type": "execute_result"
    }
   ],
   "source": [
    "heart = pd.read_csv('heartAttack.csv')\n",
    "heart.head(4)"
   ]
  },
  {
   "cell_type": "code",
   "execution_count": 3,
   "id": "a990631e",
   "metadata": {},
   "outputs": [
    {
     "name": "stderr",
     "output_type": "stream",
     "text": [
      "C:\\Users\\PRATHUL\\anaconda3\\lib\\site-packages\\seaborn\\distributions.py:2557: FutureWarning: `distplot` is a deprecated function and will be removed in a future version. Please adapt your code to use either `displot` (a figure-level function with similar flexibility) or `histplot` (an axes-level function for histograms).\n",
      "  warnings.warn(msg, FutureWarning)\n"
     ]
    },
    {
     "data": {
      "text/plain": [
       "<AxesSubplot:xlabel='age', ylabel='Density'>"
      ]
     },
     "execution_count": 3,
     "metadata": {},
     "output_type": "execute_result"
    },
    {
     "data": {
      "image/png": "[encoded data removed]",
      "text/plain": [
       "<Figure size 432x288 with 1 Axes>"
      ]
     },
     "metadata": {},
     "output_type": "display_data"
    }
   ],
   "source": [
    "sns.set_style(style='whitegrid')\n",
    "sns.distplot(heart['age'], color = 'green', bins = 20)"
   ]
  },
  {
   "cell_type": "code",
   "execution_count": 4,
   "id": "b89ba56f",
   "metadata": {},
   "outputs": [],
   "source": [
    "x=heart.drop([\"output\"],axis = 1)\n",
    "y = heart['output']"
   ]
  },
  {
   "cell_type": "code",
   "execution_count": 5,
   "id": "0fd87337",
   "metadata": {},
   "outputs": [
    {
     "data": {
      "text/html": [
       "<div>\n",
       "<style scoped>\n",
       "    .dataframe tbody tr th:only-of-type {\n",
       "        vertical-align: middle;\n",
       "    }\n",
       "\n",
       "    .dataframe tbody tr th {\n",
       "        vertical-align: top;\n",
       "    }\n",
       "\n",
       "    .dataframe thead th {\n",
       "        text-align: right;\n",
       "    }\n",
       "</style>\n",
       "<table border=\"1\" class=\"dataframe\">\n",
       "  <thead>\n",
       "    <tr style=\"text-align: right;\">\n",
       "      <th></th>\n",
       "      <th>age</th>\n",
       "      <th>sex</th>\n",
       "      <th>cp(Chest Pain type)</th>\n",
       "      <th>trtbps(resting blood pressure)</th>\n",
       "      <th>cholestoral</th>\n",
       "      <th>fbs(fasting blood sugar &gt; 120 mg/dl) (1 = true; 0 = false)</th>\n",
       "      <th>restecg(resting electrocardiographic results)</th>\n",
       "      <th>thalachh(maximum heart rate achieved)</th>\n",
       "      <th>exng(exercise induced angina (1 = yes; 0 = no))</th>\n",
       "      <th>caa(number of major vessels (0-3))</th>\n",
       "    </tr>\n",
       "  </thead>\n",
       "  <tbody>\n",
       "    <tr>\n",
       "      <th>0</th>\n",
       "      <td>63</td>\n",
       "      <td>1</td>\n",
       "      <td>3</td>\n",
       "      <td>145</td>\n",
       "      <td>233</td>\n",
       "      <td>1</td>\n",
       "      <td>0</td>\n",
       "      <td>150</td>\n",
       "      <td>0</td>\n",
       "      <td>0</td>\n",
       "    </tr>\n",
       "    <tr>\n",
       "      <th>1</th>\n",
       "      <td>37</td>\n",
       "      <td>1</td>\n",
       "      <td>2</td>\n",
       "      <td>130</td>\n",
       "      <td>250</td>\n",
       "      <td>0</td>\n",
       "      <td>1</td>\n",
       "      <td>187</td>\n",
       "      <td>0</td>\n",
       "      <td>0</td>\n",
       "    </tr>\n",
       "    <tr>\n",
       "      <th>2</th>\n",
       "      <td>41</td>\n",
       "      <td>0</td>\n",
       "      <td>1</td>\n",
       "      <td>130</td>\n",
       "      <td>204</td>\n",
       "      <td>0</td>\n",
       "      <td>0</td>\n",
       "      <td>172</td>\n",
       "      <td>0</td>\n",
       "      <td>0</td>\n",
       "    </tr>\n",
       "    <tr>\n",
       "      <th>3</th>\n",
       "      <td>56</td>\n",
       "      <td>1</td>\n",
       "      <td>1</td>\n",
       "      <td>120</td>\n",
       "      <td>236</td>\n",
       "      <td>0</td>\n",
       "      <td>1</td>\n",
       "      <td>178</td>\n",
       "      <td>0</td>\n",
       "      <td>0</td>\n",
       "    </tr>\n",
       "    <tr>\n",
       "      <th>4</th>\n",
       "      <td>57</td>\n",
       "      <td>0</td>\n",
       "      <td>0</td>\n",
       "      <td>120</td>\n",
       "      <td>354</td>\n",
       "      <td>0</td>\n",
       "      <td>1</td>\n",
       "      <td>163</td>\n",
       "      <td>1</td>\n",
       "      <td>0</td>\n",
       "    </tr>\n",
       "  </tbody>\n",
       "</table>\n",
       "</div>"
      ],
      "text/plain": [
       "   age  sex  cp(Chest Pain type)  trtbps(resting blood pressure)  cholestoral  \\\n",
       "0   63    1                    3                             145          233   \n",
       "1   37    1                    2                             130          250   \n",
       "2   41    0                    1                             130          204   \n",
       "3   56    1                    1                             120          236   \n",
       "4   57    0                    0                             120          354   \n",
       "\n",
       "   fbs(fasting blood sugar > 120 mg/dl) (1 = true; 0 = false)  \\\n",
       "0                                                  1            \n",
       "1                                                  0            \n",
       "2                                                  0            \n",
       "3                                                  0            \n",
       "4                                                  0            \n",
       "\n",
       "   restecg(resting electrocardiographic results)  \\\n",
       "0                                              0   \n",
       "1                                              1   \n",
       "2                                              0   \n",
       "3                                              1   \n",
       "4                                              1   \n",
       "\n",
       "   thalachh(maximum heart rate achieved)  \\\n",
       "0                                    150   \n",
       "1                                    187   \n",
       "2                                    172   \n",
       "3                                    178   \n",
       "4                                    163   \n",
       "\n",
       "   exng(exercise induced angina (1 = yes; 0 = no))  \\\n",
       "0                                                0   \n",
       "1                                                0   \n",
       "2                                                0   \n",
       "3                                                0   \n",
       "4                                                1   \n",
       "\n",
       "   caa(number of major vessels (0-3))  \n",
       "0                                   0  \n",
       "1                                   0  \n",
       "2                                   0  \n",
       "3                                   0  \n",
       "4                                   0  "
      ]
     },
     "execution_count": 5,
     "metadata": {},
     "output_type": "execute_result"
    }
   ],
   "source": [
    "x.head()"
   ]
  },
  {
   "cell_type": "code",
   "execution_count": 6,
   "id": "91f0d8e2",
   "metadata": {},
   "outputs": [
    {
     "data": {
      "text/plain": [
       "0      1\n",
       "1      1\n",
       "2      1\n",
       "3      1\n",
       "4      1\n",
       "      ..\n",
       "298    0\n",
       "299    0\n",
       "300    0\n",
       "301    0\n",
       "302    0\n",
       "Name: output, Length: 303, dtype: int64"
      ]
     },
     "execution_count": 6,
     "metadata": {},
     "output_type": "execute_result"
    }
   ],
   "source": [
    "y"
   ]
  },
  {
   "cell_type": "code",
   "execution_count": 7,
   "id": "9542a537",
   "metadata": {},
   "outputs": [
    {
     "data": {
      "text/plain": [
       "(303, 10)"
      ]
     },
     "execution_count": 7,
     "metadata": {},
     "output_type": "execute_result"
    }
   ],
   "source": [
    "x.shape"
   ]
  },
  {
   "cell_type": "code",
   "execution_count": 8,
   "id": "786df966",
   "metadata": {},
   "outputs": [
    {
     "data": {
      "text/plain": [
       "(303,)"
      ]
     },
     "execution_count": 8,
     "metadata": {},
     "output_type": "execute_result"
    }
   ],
   "source": [
    "y.shape"
   ]
  },
  {
   "cell_type": "code",
   "execution_count": 9,
   "id": "63ae4f2d",
   "metadata": {},
   "outputs": [],
   "source": [
    "from sklearn.model_selection import train_test_split\n",
    "x_train,x_test,y_train,y_test = train_test_split(x,y,test_size=.20, random_state=42)"
   ]
  },
  {
   "cell_type": "code",
   "execution_count": 10,
   "id": "7d54f2f9",
   "metadata": {},
   "outputs": [
    {
     "name": "stdout",
     "output_type": "stream",
     "text": [
      "(242, 10)\n"
     ]
    }
   ],
   "source": [
    "print(x_train.shape)"
   ]
  },
  {
   "cell_type": "code",
   "execution_count": 11,
   "id": "b1251f14",
   "metadata": {},
   "outputs": [
    {
     "name": "stdout",
     "output_type": "stream",
     "text": [
      "(242,)\n"
     ]
    }
   ],
   "source": [
    "print(y_train.shape)"
   ]
  },
  {
   "cell_type": "code",
   "execution_count": 12,
   "id": "b447ded8",
   "metadata": {},
   "outputs": [
    {
     "name": "stdout",
     "output_type": "stream",
     "text": [
      "(61, 10)\n"
     ]
    }
   ],
   "source": [
    "print(x_test.shape)"
   ]
  },
  {
   "cell_type": "code",
   "execution_count": 13,
   "id": "2d47a756",
   "metadata": {},
   "outputs": [],
   "source": [
    "from sklearn.svm import SVC\n",
    "svcclassifier = SVC(kernel = 'linear', random_state = 1)\n",
    "svm_model = svcclassifier.fit(x_train, y_train)\n",
    "y_pred=svcclassifier.predict(x_test)"
   ]
  },
  {
   "cell_type": "code",
   "execution_count": 14,
   "id": "6f5482e9",
   "metadata": {},
   "outputs": [
    {
     "name": "stdout",
     "output_type": "stream",
     "text": [
      "0.8524590163934426\n",
      "[[26  3]\n",
      " [ 6 26]]\n"
     ]
    }
   ],
   "source": [
    "from sklearn import metrics\n",
    "print(metrics.accuracy_score(y_test,y_pred))\n",
    "print(metrics.confusion_matrix(y_test,y_pred))\n"
   ]
  },
  {
   "cell_type": "code",
   "execution_count": null,
   "id": "2b535732",
   "metadata": {},
   "outputs": [],
   "source": []
  },
  {
   "cell_type": "code",
   "execution_count": 15,
   "id": "d34f69a2",
   "metadata": {},
   "outputs": [
    {
     "name": "stdout",
     "output_type": "stream",
     "text": [
      "[[26  3]\n",
      " [ 6 26]]\n"
     ]
    }
   ],
   "source": [
    "conf_matrix=metrics.confusion_matrix(y_test,y_pred)\n",
    "print(conf_matrix)\n",
    "TP=conf_matrix[0,0]\n",
    "TN=conf_matrix[1,1]\n",
    "FN=conf_matrix[0,1]\n",
    "FP=conf_matrix[1,0]"
   ]
  },
  {
   "cell_type": "code",
   "execution_count": 16,
   "id": "cb715fd4",
   "metadata": {},
   "outputs": [],
   "source": [
    "sensitivity=TP/(TP+FN)\n",
    "specificity=TN/(TN+FP)\n",
    "precision=TP/(TP+FP)\n",
    "pred_val=TN/(TN+FN)\n",
    "accracy=(TP+FN)/(TP+TN+FP+FN)"
   ]
  },
  {
   "cell_type": "code",
   "execution_count": 17,
   "id": "0077a581",
   "metadata": {},
   "outputs": [
    {
     "name": "stdout",
     "output_type": "stream",
     "text": [
      "SENSITIVITY : 0.896552\n",
      "SPECIFICITY : 0.812500\n",
      "PRECISION : 0.812500\n",
      "PREDICTE VALUE : 0.896552\n",
      "ACCURCY : 0.475410\n",
      "\n",
      "\n",
      "precision 0.8125\n",
      "PRECISION SCORE : 0.896551724137931\n",
      "RECALL SCORE : 0.8125\n",
      "F1 SCORE : 0.8524590163934426\n"
     ]
    }
   ],
   "source": [
    "print(\"SENSITIVITY : %f\"%(sensitivity))\n",
    "print(\"SPECIFICITY : %f\"%(specificity))\n",
    "print(\"PRECISION : %f\"%(precision))\n",
    "print(\"PREDICTE VALUE : %f\"%(pred_val))\n",
    "print(\"ACCURCY : %f\"%(accracy))\n",
    "print(\"\\n\\nprecision\",precision)\n",
    "print(\"PRECISION SCORE :\",metrics.precision_score(y_test, y_pred))\n",
    "print(\"RECALL SCORE :\", metrics.recall_score(y_test, y_pred))\n",
    "print(\"F1 SCORE :\",metrics.f1_score(y_test, y_pred))"
   ]
  },
  {
   "cell_type": "markdown",
   "id": "aa0ce6fb",
   "metadata": {},
   "source": [
    "heart.head(1)"
   ]
  },
  {
   "cell_type": "code",
   "execution_count": 18,
   "id": "f203873b",
   "metadata": {},
   "outputs": [],
   "source": [
    "#Get a new Data and Check Whether the customer purchase or not—0(no) and 1(yes)\n",
    "#age=int(input('Enter the Age : '))\n",
    "#sex=int(input('Enter the sex : '))\n",
    "#cp=int(input('Enter the cp '))\n",
    "#trtbps=int(input('Enter the trtbps '))\n",
    "#cholestoral=int(input('Enter the cholestoral '))\n",
    "#fbs=int(input('Enter the fbs '))\n",
    "#restecg=int(input('Enter the restecg '))\n",
    "#thalachh=int(input('Enter the thalachh '))\n",
    "#exng=int(input('Enter the exng '))\n",
    "#caa=int(input('Enter the caa '))\n",
    "#New_Data=[ [age,sex,cp,trtbps,cholestoral,fbs,restecg,thalachh,exng,oldpeak,slp,caa,thall]]\n",
    "#New_Data_User = pd.DataFrame(New_Data,columns=['age', 'sex','cp(Chest Pain type)','trtbps(resting blood pressure)','cholestoral','fbs(fasting blood sugar > 120 mg/dl) (1 = true; 0 = false)','restecg(resting electrocardiographic results)','thalachh(maximum heart rate achieved)','exng(exercise induced angina (1 = yes; 0 = no))','oldpeak(Previous peak)','slp(Slope)','caa(number of major vessels (0-3))','thall(Thal rate)'])\n",
    "#print(New_Data_User.head())\n",
    "#user_classification = svcclassifier.predict(New_Data_User)\n",
    "#print(user_classification)"
   ]
  },
  {
   "cell_type": "code",
   "execution_count": 20,
   "id": "1ad94bbc",
   "metadata": {},
   "outputs": [],
   "source": [
    "import pickle\n",
    "pickle_file = open(\"Attack_Model.pkl\",\"wb\")\n",
    "pickle.dump(svm_model, pickle_file)\n",
    "pickle_file.close()"
   ]
  },
  {
   "cell_type": "code",
   "execution_count": null,
   "id": "573255d0",
   "metadata": {},
   "outputs": [],
   "source": []
  }
 ],
 "metadata": {
  "kernelspec": {
   "display_name": "Python 3",
   "language": "python",
   "name": "python3"
  },
  "language_info": {
   "codemirror_mode": {
    "name": "ipython",
    "version": 3
   },
   "file_extension": ".py",
   "mimetype": "text/x-python",
   "name": "python",
   "nbconvert_exporter": "python",
   "pygments_lexer": "ipython3",
   "version": "3.8.8"
  }
 },
 "nbformat": 4,
 "nbformat_minor": 5
}
